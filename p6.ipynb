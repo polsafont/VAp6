{
 "cells": [
  {
   "cell_type": "markdown",
   "metadata": {},
   "source": [
    "# Computer Vision - P6\n",
    "\n",
    "### **Carefully read the file `README.md` as well as the following instructions before start coding.**"
   ]
  },
  {
   "cell_type": "markdown",
   "metadata": {},
   "source": [
    "## Delivery\n",
    "\n",
    "Up to **1 point out of 10** will be penalized if the following requirements are not fulfilled:\n",
    "\n",
    "- Implemented code should be commented.\n",
    "\n",
    "- The questions introduced in the exercises must be answered.\n",
    "\n",
    "- Add title to the figures to explain what is displayed.\n",
    "\n",
    "- Comments need to be in **english**.\n",
    "\n",
    "- The deliverable must be a file named **P6_Student1_Student2.zip** that includes:\n",
    "    - The notebook P6_Student1_Student2.ipynb completed with the solutions to the exercises and their corresponding comments.\n",
    "    - All the images used in this notebook.\n",
    "\n",
    "**Deadline (Campus Virtual): January 5th, 23:00 h** "
   ]
  },
  {
   "cell_type": "markdown",
   "metadata": {},
   "source": [
    "## Haar-like features applied for face detection\n",
    "\n",
    "Today's exercices will practise the following:\n",
    "\n",
    "- Integral images and a classical use for fast harr-like feature computation.\n",
    " - Use of Adaboost for classification.\n",
    "- Decisions based on a user-defined threshold for balancing precision and recall."
   ]
  },
  {
   "cell_type": "code",
   "execution_count": 88,
   "metadata": {},
   "outputs": [],
   "source": [
    "# Some useful imports for the exercises\n",
    "import numpy as np\n",
    "import os\n",
    "import matplotlib\n",
    "from PIL import Image\n",
    "from multiprocessing import Pool\n",
    "from functools import partial\n",
    "import time\n",
    "import timeit\n",
    "from matplotlib import pyplot as plt\n",
    "import skimage\n",
    "\n",
    "%matplotlib inline"
   ]
  },
  {
   "cell_type": "markdown",
   "metadata": {},
   "source": [
    "**1) Build a function `to_integral_image` that computes the integral image of an input (2D) array.**\n",
    "\n",
    "The integral image must have an additional row and column full of zeros (first row and first column).\n",
    "Make sure that the values of the integral image are correct.\n",
    "\n",
    "```python\n",
    " def to_integral_image(img_arr):\n",
    "    row_sum = np.zeros(img_arr.shape)\n",
    "    integral_image_arr = np.zeros((img_arr.shape[0] + 1, img_arr.shape[1] + 1))\n",
    "    # Add here code\n",
    "    \n",
    "    return integral_image_arr\n",
    "```\n",
    "\n",
    "\n",
    "You can make the following tests:\n",
    " \n",
    " - `sum(img_array) == ii_img_array[-1,-1]`\n",
    " - `img_array[0,:].sum() == ii_img_array[1,-1]`\n",
    " \n",
    "Plot the output of the integral image for the following array:\n",
    "\n",
    "```\n",
    "img_array = np.array([[1,2,2,2,1],[1,2,2,2,1],[1,2,2,2,1],[1,2,2,2,1]])\n",
    "```\n",
    "\n",
    "\n"
   ]
  },
  {
   "cell_type": "code",
   "execution_count": 89,
   "metadata": {},
   "outputs": [
    {
     "data": {
      "image/png": "[encoded data removed]",
      "text/plain": [
       "<Figure size 432x288 with 1 Axes>"
      ]
     },
     "metadata": {
      "needs_background": "light"
     },
     "output_type": "display_data"
    }
   ],
   "source": [
    "img_array = np.array([[1,2,2,2,1],[1,2,2,2,1],[1,2,2,2,1],[1,2,2,2,1]])\n",
    "img_array.shape\n",
    "plt.imshow(img_array, cmap=\"gray\", vmin=0, vmax= 5)\n",
    "plt.show()"
   ]
  },
  {
   "cell_type": "code",
   "execution_count": 90,
   "metadata": {},
   "outputs": [],
   "source": [
    "def to_integral_image(img_arr):\n",
    "    \"\"\"\n",
    "    Calculates the integral image based on this instance's original image data.\n",
    "    :param img_arr: Image source data\n",
    "    :type img_arr: numpy.ndarray\n",
    "    :return Integral image for given image\n",
    "    :rtype: numpy.ndarray\n",
    "    \"\"\"\n",
    "    # an index of -1 refers to the last row/column\n",
    "    # since row_sum is calculated starting from (0,0),\n",
    "    # rowSum(x, -1) == 0 holds for all x\n",
    "    row_sum = np.zeros(img_arr.shape)\n",
    "    # we need an additional column and row\n",
    "    integral_image_arr = np.zeros((img_arr.shape[0] + 1, img_arr.shape[1] + 1))\n",
    "\n",
    "    # cumsum give us the cumulative sum of the elements along a given axis\n",
    "    # we apply it to vertical and hortitzontal axis for all the img_arr\n",
    "    # and then return the integral_image_arr with the 0 first row and column.\n",
    "\n",
    "    integral_image_arr[1:,1:] = img_arr.cumsum(axis=0).cumsum(axis=1) \n",
    "    \n",
    "    return integral_image_arr\n",
    "\n"
   ]
  },
  {
   "cell_type": "code",
   "execution_count": 91,
   "metadata": {},
   "outputs": [
    {
     "name": "stdout",
     "output_type": "stream",
     "text": [
      "check 1\n",
      "True\n",
      "check 2\n",
      "True\n",
      "[[1 2 2 2 1]\n",
      " [1 2 2 2 1]\n",
      " [1 2 2 2 1]\n",
      " [1 2 2 2 1]]\n",
      "[[ 0.  0.  0.  0.  0.  0.]\n",
      " [ 0.  1.  3.  5.  7.  8.]\n",
      " [ 0.  2.  6. 10. 14. 16.]\n",
      " [ 0.  3.  9. 15. 21. 24.]\n",
      " [ 0.  4. 12. 20. 28. 32.]]\n"
     ]
    },
    {
     "data": {
      "image/png": "[encoded data removed]",
      "text/plain": [
       "<Figure size 432x288 with 1 Axes>"
      ]
     },
     "metadata": {
      "needs_background": "light"
     },
     "output_type": "display_data"
    }
   ],
   "source": [
    "#check\n",
    "ii_img_array = to_integral_image(img_array)\n",
    "print(\"check 1\")\n",
    "print( np.sum(img_array) == ii_img_array[-1,-1] )\n",
    "print(\"check 2\")\n",
    "print ( img_array[0,:].sum() == ii_img_array[1,-1])\n",
    "\n",
    "print(img_array)\n",
    "print(ii_img_array)\n",
    "plt.imshow(ii_img_array, cmap=\"gray\", vmin=0, vmax=ii_img_array.max() )\n",
    "plt.show()"
   ]
  },
  {
   "cell_type": "markdown",
   "metadata": {},
   "source": [
    "** 2) Build a function to compute the  sum of the pixel intensities within a  rectangle using the integral image. The rectangle will be defined using the top left (x, y) and bottom right (x, y) coordinates.**\n",
    "\n",
    "Make the function with the following header:\n",
    "```\n",
    "def sum_region(integral_img_arr, top_left, bottom_right):\n",
    "```\n"
   ]
  },
  {
   "cell_type": "code",
   "execution_count": 92,
   "metadata": {},
   "outputs": [],
   "source": [
    "def sum_region(integral_img_arr, top_left, bottom_right):\n",
    "    # add top left + top bottom and substract top right and bottom left to obtain the sum region\n",
    "    total = (integral_img_arr[bottom_right[0]][bottom_right[1]] + \n",
    "            integral_img_arr[top_left[0]][top_left[1]] - \n",
    "            integral_img_arr[bottom_right[0]][top_left[1]] - \n",
    "            integral_img_arr[top_left[0]][bottom_right[1]])\n",
    "    \n",
    "    return total"
   ]
  },
  {
   "cell_type": "code",
   "execution_count": 93,
   "metadata": {},
   "outputs": [
    {
     "data": {
      "text/plain": [
       "12.0"
      ]
     },
     "execution_count": 93,
     "metadata": {},
     "output_type": "execute_result"
    }
   ],
   "source": [
    "# result you should get (12)\n",
    "sum_region(ii_img_array, [1,1],[3,4])"
   ]
  },
  {
   "cell_type": "code",
   "execution_count": 94,
   "metadata": {},
   "outputs": [
    {
     "data": {
      "text/plain": [
       "32.0"
      ]
     },
     "execution_count": 94,
     "metadata": {},
     "output_type": "execute_result"
    }
   ],
   "source": [
    "# result you should get (32)\n",
    "sum_region(ii_img_array, [0,0],[-1,-1])"
   ]
  },
  {
   "cell_type": "markdown",
   "metadata": {
    "collapsed": true
   },
   "source": [
    "**3) Compute the integral image for all the following images:**\n",
    "    \n",
    "- training images of faces: save results in **`faces_ii_training`**\n",
    "- testing images of face: save the results in **`faces_ii_testing`**\n",
    "- training images of non faces: **`non_faces_ii_training`**\n",
    "- testing images of non faces:  **`non_faces_ii_testing`**\n",
    "\n",
    "To do so build a function to read all the images inside a given folder:\n",
    "\n",
    "```python\n",
    "def load_images(path):\n",
    "    images = []\n",
    "    for _file in os.listdir(path):\n",
    "       #### Read image\n",
    "       #### Remember to scale the image (wih the max pixel intensity value)\n",
    "     \n",
    "    return images\n",
    " ```"
   ]
  },
  {
   "cell_type": "code",
   "execution_count": 95,
   "metadata": {},
   "outputs": [],
   "source": [
    "pos_training_path = 'trainingdata/faces'\n",
    "neg_training_path = 'trainingdata/nonfaces'\n",
    "pos_testing_path = 'trainingdata/faces/test'\n",
    "neg_testing_path = 'trainingdata/nonfaces/test'"
   ]
  },
  {
   "cell_type": "code",
   "execution_count": 96,
   "metadata": {
    "scrolled": true
   },
   "outputs": [],
   "source": [
    "def load_images(path):\n",
    "    images = []\n",
    "    # read all images inside path dir\n",
    "    for _file in os.listdir(path):\n",
    "        # read image\n",
    "        img = skimage.io.imread(path + '/' + _file)\n",
    "        # scale image to 0 - 1 values with 1 equal maxValue of img\n",
    "        img = img / img.max()\n",
    "        \n",
    "        # integral image\n",
    "        i_img = to_integral_image(img)\n",
    "        images.append(i_img)\n",
    "    return images\n",
    "\n",
    "\n"
   ]
  },
  {
   "cell_type": "markdown",
   "metadata": {},
   "source": [
    "**4) Compute the Haar features of an image**\n",
    "\n",
    "The code given will use the  `sum_region` function you have implemented to compute Haar-like features.\n",
    "The following code, for example, will compute a vertical Haar-like feature\n",
    "```python\n",
    "    first = sum_region(int_img, \n",
    "                      self.top_left, \n",
    "                      (self.top_left[0] + self.width, int(self.top_left[1] + self.height / 2)))\n",
    "    second = sum_region(int_img, \n",
    "                       (self.top_left[0], int(self.top_left[1] + self.height / 2)),\n",
    "                       self.bottom_right)\n",
    "    score = first - second\n",
    "```\n",
    "\n",
    "We provide you with `HaarLikeFeature` class that has build in a `get_score` function and a `get_vote` function.\n",
    "\n",
    "Your job is to \n",
    "```python\n",
    "def _create_features(img_height, img_width, min_feature_width, max_feature_width, min_feature_height, max_feature_height):\n",
    "    print('Creating Haar-like features..')\n",
    "    t0 = time.time()\n",
    "    features = []\n",
    "    for feature in FeatureTypes:\n",
    "        # FeatureTypes are just tuples\n",
    "        feature_start_width = max(min_feature_width, feature[0])\n",
    "        for feature_width in range(feature_start_width, max_feature_width, feature[0]):\n",
    "            feature_start_height = max(min_feature_height, feature[1])\n",
    "            for feature_height in range(feature_start_height, max_feature_height, feature[1]):\n",
    "                # Loop over possible x values and y values \n",
    "                # - For each (x,y) create the HarrLikeFeature objects.\n",
    "                # - append the HaarlikeFeatures in the features list.\n",
    "                # Notice that Haarlike features contain polarity, append features for polarity 1 and -1\n",
    "                # The threshold can be set to 0 for all of them.\n",
    "                \n",
    "                \n",
    "    print('\\t' + str(len(features)) + ' features created.')\n",
    "    print('\\tTime needed for calculating Harr-like features:', time.time()-t0)\n",
    "    return features\n",
    "```"
   ]
  },
  {
   "cell_type": "code",
   "execution_count": 97,
   "metadata": {},
   "outputs": [],
   "source": [
    "def enum(**enums):\n",
    "    return type('Enum', (), enums)\n",
    "\n",
    "FeatureType = enum(TWO_VERTICAL=(1, 2), TWO_HORIZONTAL=(2, 1), THREE_HORIZONTAL=(3, 1),\n",
    "                   THREE_VERTICAL=(1, 3), FOUR=(2, 2))\n",
    "\n",
    "FeatureTypes = [FeatureType.TWO_VERTICAL, FeatureType.TWO_HORIZONTAL, \n",
    "                FeatureType.THREE_VERTICAL, FeatureType.THREE_HORIZONTAL, FeatureType.FOUR]\n",
    "\n",
    "class HaarLikeFeature(object):\n",
    "    \"\"\"\n",
    "    Class representing a haar-like feature.\n",
    "    \"\"\"\n",
    "\n",
    "    def __init__(self, feature_type, position, width, height, threshold, polarity):\n",
    "        \"\"\"\n",
    "        Creates a new haar-like feature.\n",
    "        :param feature_type: Type of new feature, see FeatureType enum\n",
    "        :type feature_type: violajonse.HaarLikeFeature.FeatureTypes\n",
    "        :param position: Top left corner where the feature begins (x, y)\n",
    "        :type position: (int, int)\n",
    "        :param width: Width of the feature\n",
    "        :type width: int\n",
    "        :param height: Height of the feature\n",
    "        :type height: int\n",
    "        :param threshold: Feature threshold\n",
    "        :type threshold: float\n",
    "        :param polarity: polarity of the feature -1 or 1\n",
    "        :type polarity: int\n",
    "        \"\"\"\n",
    "        self.type = feature_type\n",
    "        self.top_left = position\n",
    "        self.bottom_right = (position[0] + width, position[1] + height)\n",
    "        self.width = width\n",
    "        self.height = height\n",
    "        self.threshold = threshold\n",
    "        self.polarity = polarity\n",
    "        self.weight = 1\n",
    "    \n",
    "    def get_score(self, int_img):\n",
    "        \"\"\"\n",
    "        Get score for given integral image array.\n",
    "        :param int_img: Integral image array\n",
    "        :type int_img: numpy.ndarray\n",
    "        :return: Score for given feature\n",
    "        :rtype: float\n",
    "        \"\"\"\n",
    "        score = 0\n",
    "        if self.type == FeatureType.TWO_VERTICAL:\n",
    "            first = sum_region(int_img, self.top_left, (self.top_left[0] + self.width, int(self.top_left[1] + self.height / 2)))\n",
    "            second = sum_region(int_img, (self.top_left[0], int(self.top_left[1] + self.height / 2)), self.bottom_right)\n",
    "            score = first - second\n",
    "        elif self.type == FeatureType.TWO_HORIZONTAL:\n",
    "            first = sum_region(int_img, self.top_left, (int(self.top_left[0] + self.width / 2), self.top_left[1] + self.height))\n",
    "            second = sum_region(int_img, (int(self.top_left[0] + self.width / 2), self.top_left[1]), self.bottom_right)\n",
    "            score = first - second\n",
    "        elif self.type == FeatureType.THREE_HORIZONTAL:\n",
    "            first = sum_region(int_img, self.top_left, (int(self.top_left[0] + self.width / 3), self.top_left[1] + self.height))\n",
    "            second = sum_region(int_img, (int(self.top_left[0] + self.width / 3), self.top_left[1]), (int(self.top_left[0] + 2 * self.width / 3), self.top_left[1] + self.height))\n",
    "            third = sum_region(int_img, (int(self.top_left[0] + 2 * self.width / 3), self.top_left[1]), self.bottom_right)\n",
    "            score = first - second + third\n",
    "        elif self.type == FeatureType.THREE_VERTICAL:\n",
    "            first = sum_region(int_img, self.top_left, (self.bottom_right[0], int(self.top_left[1] + self.height / 3)))\n",
    "            second = sum_region(int_img, (self.top_left[0], int(self.top_left[1] + self.height / 3)), (self.bottom_right[0], int(self.top_left[1] + 2 * self.height / 3)))\n",
    "            third = sum_region(int_img, (self.top_left[0], int(self.top_left[1] + 2 * self.height / 3)), self.bottom_right)\n",
    "            score = first - second + third\n",
    "        elif self.type == FeatureType.FOUR:\n",
    "            # top left area\n",
    "            first = sum_region(int_img, self.top_left, (int(self.top_left[0] + self.width / 2), int(self.top_left[1] + self.height / 2)))\n",
    "            # top right area\n",
    "            second = sum_region(int_img, (int(self.top_left[0] + self.width / 2), self.top_left[1]), (self.bottom_right[0], int(self.top_left[1] + self.height / 2)))\n",
    "            # bottom left area\n",
    "            third = sum_region(int_img, (self.top_left[0], int(self.top_left[1] + self.height / 2)), (int(self.top_left[0] + self.width / 2), self.bottom_right[1]))\n",
    "            # bottom right area\n",
    "            fourth = sum_region(int_img, (int(self.top_left[0] + self.width / 2), int(self.top_left[1] + self.height / 2)), self.bottom_right)\n",
    "            score = first - second - third + fourth\n",
    "        return score\n",
    "    \n",
    "    def get_vote(self, int_img):\n",
    "        \"\"\"\n",
    "        Get vote of this feature for given integral image.\n",
    "        :param int_img: Integral image array\n",
    "        :type int_img: numpy.ndarray\n",
    "        :return: 1 iff this feature votes positively, otherwise -1\n",
    "        :rtype: int\n",
    "        \"\"\"\n",
    "        score = self.get_score(int_img)\n",
    "        return self.weight * (1 if score < self.polarity * self.threshold else -1)\n"
   ]
  },
  {
   "cell_type": "code",
   "execution_count": 98,
   "metadata": {},
   "outputs": [],
   "source": [
    "\n",
    "def learn(positive_iis, negative_iis, num_classifiers=-1, min_feature_width=1, max_feature_width=-1, min_feature_height=1, max_feature_height=-1):\n",
    "    \"\"\"\n",
    "    Selects a set of classifiers. Iteratively takes the best classifiers based\n",
    "    on a weighted error.\n",
    "    :param positive_iis: List of positive integral image examples\n",
    "    :type positive_iis: list[numpy.ndarray]\n",
    "    :param negative_iis: List of negative integral image examples\n",
    "    :type negative_iis: list[numpy.ndarray]\n",
    "    :param num_classifiers: Number of classifiers to select, -1 will use all\n",
    "    classifiers\n",
    "    :type num_classifiers: int\n",
    "    :return: List of selected features\n",
    "    :rtype: list[violajones.HaarLikeFeature.HaarLikeFeature]\n",
    "    \"\"\"\n",
    "    num_pos = len(positive_iis)\n",
    "    num_neg = len(negative_iis)\n",
    "    num_imgs = num_pos + num_neg\n",
    "    img_height, img_width = positive_iis[0].shape\n",
    "\n",
    "    # Maximum feature width and height default to image width and height\n",
    "    max_feature_height = img_height if max_feature_height == -1 else max_feature_height\n",
    "    max_feature_width = img_width if max_feature_width == -1 else max_feature_width\n",
    "\n",
    "    # Create initial weights and labels\n",
    "    pos_weights = np.ones(num_pos) * 1. / (2 * num_pos)\n",
    "    neg_weights = np.ones(num_neg) * 1. / (2 * num_neg)\n",
    "    weights = np.hstack((pos_weights, neg_weights))\n",
    "    labels = np.hstack((np.ones(num_pos), np.ones(num_neg) * -1))\n",
    "\n",
    "    images = positive_iis + negative_iis\n",
    "\n",
    "    # Create features for all sizes and locations\n",
    "    features = _create_features(img_height, img_width, min_feature_width,\n",
    "                                max_feature_width, min_feature_height, max_feature_height)\n",
    "    num_features = len(features)\n",
    "    feature_indexes = list(range(num_features))\n",
    "\n",
    "    num_classifiers = num_features if num_classifiers == -1 else num_classifiers\n",
    "\n",
    "    print('Calculating scores for images..')\n",
    "    t0 = time.time()\n",
    "    votes = np.zeros((num_imgs, num_features))\n",
    "    # Use as many workers as there are CPUs\n",
    "    pool = Pool(processes=None)\n",
    "    for i in range(num_imgs):\n",
    "        votes[i, :] = np.array(list(pool.map(partial(_get_feature_vote, image=images[i]), features)))\n",
    "\n",
    "    \n",
    "    print('\\tTime needed for calculating scores:', time.time()-t0)\n",
    "    \n",
    "    # select classifiers\n",
    "    classifiers = []\n",
    "\n",
    "    t0 = time.time()\n",
    "    print('Selecting classifiers..')\n",
    "    for _ in range(num_classifiers):\n",
    "\n",
    "        classification_errors = np.zeros(len(feature_indexes))\n",
    "\n",
    "        # normalize weights\n",
    "        weights *= 1. / np.sum(weights)\n",
    "\n",
    "        # select best classifier based on the weighted error\n",
    "        for f in range(len(feature_indexes)):\n",
    "            f_idx = feature_indexes[f]\n",
    "            # classifier error is the sum of image weights where the classifier\n",
    "            # is right\n",
    "            error = sum(map(lambda img_idx: weights[img_idx] \n",
    "                            if labels[img_idx] != votes[img_idx, f_idx] \n",
    "                            else 0, range(num_imgs)))\n",
    "            classification_errors[f] = error\n",
    "\n",
    "        # get best feature, i.e. with smallest error\n",
    "        min_error_idx = np.argmin(classification_errors)\n",
    "        best_error = classification_errors[min_error_idx]\n",
    "        best_feature_idx = feature_indexes[min_error_idx]\n",
    "\n",
    "        # set feature weight\n",
    "        best_feature = features[best_feature_idx]\n",
    "        feature_weight = 0.5 * np.log((1 - best_error) / best_error)\n",
    "        best_feature.weight = feature_weight\n",
    "\n",
    "        classifiers.append(best_feature)\n",
    "\n",
    "        # update image weights\n",
    "        weights = np.array(list(map(lambda img_idx: weights[img_idx] * np.sqrt((1-best_error)/best_error) \n",
    "                                    if labels[img_idx] != votes[img_idx, best_feature_idx] \n",
    "                                    else weights[img_idx] * np.sqrt(best_error/(1-best_error)), \n",
    "                                    range(num_imgs))))\n",
    "\n",
    "        # remove feature (a feature can't be selected twice)\n",
    "        feature_indexes.remove(best_feature_idx)\n",
    "\n",
    "    print('\\tTime needed for Selecting Classifiers:', time.time()-t0,'\\n')\n",
    "\n",
    "\n",
    "    return classifiers\n",
    "\n",
    "def _get_feature_vote(feature, image):\n",
    "    return feature.get_vote(image)\n",
    "\n",
    "def _create_features(img_height, img_width, min_feature_width, max_feature_width,\n",
    "                     min_feature_height, max_feature_height):\n",
    "    print('Creating Haar-like features..')\n",
    "    t0 = time.time()\n",
    "    features = []\n",
    "    for feature in FeatureTypes:\n",
    "        # FeatureTypes are just tuples\n",
    "        feature_start_width = max(min_feature_width, feature[0])\n",
    "        for feature_width in range(feature_start_width, max_feature_width, feature[0]):\n",
    "            feature_start_height = max(min_feature_height, feature[1])\n",
    "            for feature_height in range(feature_start_height, max_feature_height, feature[1]):\n",
    "                ##############\n",
    "                # Loop over possible x values and y values \n",
    "                # - For each (x,y) create the HarrLikeFeature objects.\n",
    "                for x in range(img_width - feature_width):\n",
    "                    for y in range(img_height - feature_height):\n",
    "                        # - append the HaarlikeFeatures in the features list.\n",
    "                        haar = HaarLikeFeature()\n",
    "                        haar.get_score()\n",
    "                        features.append(haar)\n",
    "                        # Notice that Haarlike features contain polarity, \n",
    "                        # append features for polarity 1 and -1\n",
    "                        # The threshold can be set to 0 for all of them.\n",
    "\n",
    "            \n",
    "    print('\\t' + str(len(features)) + ' features created.')\n",
    "    print('\\tTime needed for calculating Harr-like features:', time.time()-t0)\n",
    "    return features\n",
    "                "
   ]
  },
  {
   "cell_type": "markdown",
   "metadata": {},
   "source": [
    "** 5)Use the learn method  to learn a list of classifiers with the train data **\n",
    "\n",
    "With the `learn` function you can build a list of classifiers that detect whether an image contains a face or not.\n",
    "\n",
    "Use the following hyperparameters of the features and `num_classifiers`."
   ]
  },
  {
   "cell_type": "code",
   "execution_count": 99,
   "metadata": {},
   "outputs": [],
   "source": [
    "num_classifiers = 2\n",
    "min_feature_height = 8\n",
    "max_feature_height = 10\n",
    "min_feature_width = 8\n",
    "max_feature_width = 10"
   ]
  },
  {
   "cell_type": "code",
   "execution_count": 100,
   "metadata": {},
   "outputs": [
    {
     "ename": "OSError",
     "evalue": "cannot identify image file <_io.BufferedReader name='trainingdata/faces/.DS_Store'>",
     "output_type": "error",
     "traceback": [
      "\u001b[1;31m---------------------------------------------------------------------------\u001b[0m",
      "\u001b[1;31mOSError\u001b[0m                                   Traceback (most recent call last)",
      "\u001b[1;32m<ipython-input-100-ed7b98a55adb>\u001b[0m in \u001b[0;36m<module>\u001b[1;34m()\u001b[0m\n\u001b[0;32m      2\u001b[0m \u001b[0mneg_training_path\u001b[0m \u001b[1;33m=\u001b[0m \u001b[1;34m'trainingdata/nonfaces'\u001b[0m\u001b[1;33m\u001b[0m\u001b[0m\n\u001b[0;32m      3\u001b[0m \u001b[1;33m\u001b[0m\u001b[0m\n\u001b[1;32m----> 4\u001b[1;33m \u001b[0mpositive_train\u001b[0m \u001b[1;33m=\u001b[0m \u001b[0mload_images\u001b[0m\u001b[1;33m(\u001b[0m\u001b[0mpos_training_path\u001b[0m\u001b[1;33m)\u001b[0m\u001b[1;33m\u001b[0m\u001b[0m\n\u001b[0m\u001b[0;32m      5\u001b[0m \u001b[0mnegative_train\u001b[0m \u001b[1;33m=\u001b[0m \u001b[0mload_images\u001b[0m\u001b[1;33m(\u001b[0m\u001b[0mneg_training_path\u001b[0m\u001b[1;33m)\u001b[0m\u001b[1;33m\u001b[0m\u001b[0m\n",
      "\u001b[1;32m<ipython-input-96-aad70133c5df>\u001b[0m in \u001b[0;36mload_images\u001b[1;34m(path)\u001b[0m\n\u001b[0;32m      4\u001b[0m     \u001b[1;32mfor\u001b[0m \u001b[0m_file\u001b[0m \u001b[1;32min\u001b[0m \u001b[0mos\u001b[0m\u001b[1;33m.\u001b[0m\u001b[0mlistdir\u001b[0m\u001b[1;33m(\u001b[0m\u001b[0mpath\u001b[0m\u001b[1;33m)\u001b[0m\u001b[1;33m:\u001b[0m\u001b[1;33m\u001b[0m\u001b[0m\n\u001b[0;32m      5\u001b[0m         \u001b[1;31m# read image\u001b[0m\u001b[1;33m\u001b[0m\u001b[1;33m\u001b[0m\u001b[0m\n\u001b[1;32m----> 6\u001b[1;33m         \u001b[0mimg\u001b[0m \u001b[1;33m=\u001b[0m \u001b[0mskimage\u001b[0m\u001b[1;33m.\u001b[0m\u001b[0mio\u001b[0m\u001b[1;33m.\u001b[0m\u001b[0mimread\u001b[0m\u001b[1;33m(\u001b[0m\u001b[0mpath\u001b[0m \u001b[1;33m+\u001b[0m \u001b[1;34m'/'\u001b[0m \u001b[1;33m+\u001b[0m \u001b[0m_file\u001b[0m\u001b[1;33m)\u001b[0m\u001b[1;33m\u001b[0m\u001b[0m\n\u001b[0m\u001b[0;32m      7\u001b[0m         \u001b[1;31m# scale image to 0 - 1 values with 1 equal maxValue of img\u001b[0m\u001b[1;33m\u001b[0m\u001b[1;33m\u001b[0m\u001b[0m\n\u001b[0;32m      8\u001b[0m         \u001b[0mimg\u001b[0m \u001b[1;33m=\u001b[0m \u001b[0mimg\u001b[0m \u001b[1;33m/\u001b[0m \u001b[0mimg\u001b[0m\u001b[1;33m.\u001b[0m\u001b[0mmax\u001b[0m\u001b[1;33m(\u001b[0m\u001b[1;33m)\u001b[0m\u001b[1;33m\u001b[0m\u001b[0m\n",
      "\u001b[1;32m~\\Anaconda3\\lib\\site-packages\\skimage\\io\\_io.py\u001b[0m in \u001b[0;36mimread\u001b[1;34m(fname, as_gray, plugin, flatten, **plugin_args)\u001b[0m\n\u001b[0;32m     60\u001b[0m \u001b[1;33m\u001b[0m\u001b[0m\n\u001b[0;32m     61\u001b[0m     \u001b[1;32mwith\u001b[0m \u001b[0mfile_or_url_context\u001b[0m\u001b[1;33m(\u001b[0m\u001b[0mfname\u001b[0m\u001b[1;33m)\u001b[0m \u001b[1;32mas\u001b[0m \u001b[0mfname\u001b[0m\u001b[1;33m:\u001b[0m\u001b[1;33m\u001b[0m\u001b[0m\n\u001b[1;32m---> 62\u001b[1;33m         \u001b[0mimg\u001b[0m \u001b[1;33m=\u001b[0m \u001b[0mcall_plugin\u001b[0m\u001b[1;33m(\u001b[0m\u001b[1;34m'imread'\u001b[0m\u001b[1;33m,\u001b[0m \u001b[0mfname\u001b[0m\u001b[1;33m,\u001b[0m \u001b[0mplugin\u001b[0m\u001b[1;33m=\u001b[0m\u001b[0mplugin\u001b[0m\u001b[1;33m,\u001b[0m \u001b[1;33m**\u001b[0m\u001b[0mplugin_args\u001b[0m\u001b[1;33m)\u001b[0m\u001b[1;33m\u001b[0m\u001b[0m\n\u001b[0m\u001b[0;32m     63\u001b[0m \u001b[1;33m\u001b[0m\u001b[0m\n\u001b[0;32m     64\u001b[0m     \u001b[1;32mif\u001b[0m \u001b[1;32mnot\u001b[0m \u001b[0mhasattr\u001b[0m\u001b[1;33m(\u001b[0m\u001b[0mimg\u001b[0m\u001b[1;33m,\u001b[0m \u001b[1;34m'ndim'\u001b[0m\u001b[1;33m)\u001b[0m\u001b[1;33m:\u001b[0m\u001b[1;33m\u001b[0m\u001b[0m\n",
      "\u001b[1;32m~\\Anaconda3\\lib\\site-packages\\skimage\\io\\manage_plugins.py\u001b[0m in \u001b[0;36mcall_plugin\u001b[1;34m(kind, *args, **kwargs)\u001b[0m\n\u001b[0;32m    212\u001b[0m                                (plugin, kind))\n\u001b[0;32m    213\u001b[0m \u001b[1;33m\u001b[0m\u001b[0m\n\u001b[1;32m--> 214\u001b[1;33m     \u001b[1;32mreturn\u001b[0m \u001b[0mfunc\u001b[0m\u001b[1;33m(\u001b[0m\u001b[1;33m*\u001b[0m\u001b[0margs\u001b[0m\u001b[1;33m,\u001b[0m \u001b[1;33m**\u001b[0m\u001b[0mkwargs\u001b[0m\u001b[1;33m)\u001b[0m\u001b[1;33m\u001b[0m\u001b[0m\n\u001b[0m\u001b[0;32m    215\u001b[0m \u001b[1;33m\u001b[0m\u001b[0m\n\u001b[0;32m    216\u001b[0m \u001b[1;33m\u001b[0m\u001b[0m\n",
      "\u001b[1;32m~\\Anaconda3\\lib\\site-packages\\skimage\\io\\_plugins\\pil_plugin.py\u001b[0m in \u001b[0;36mimread\u001b[1;34m(fname, dtype, img_num, **kwargs)\u001b[0m\n\u001b[0;32m     34\u001b[0m     \u001b[1;32mif\u001b[0m \u001b[0misinstance\u001b[0m\u001b[1;33m(\u001b[0m\u001b[0mfname\u001b[0m\u001b[1;33m,\u001b[0m \u001b[0mstring_types\u001b[0m\u001b[1;33m)\u001b[0m\u001b[1;33m:\u001b[0m\u001b[1;33m\u001b[0m\u001b[0m\n\u001b[0;32m     35\u001b[0m         \u001b[1;32mwith\u001b[0m \u001b[0mopen\u001b[0m\u001b[1;33m(\u001b[0m\u001b[0mfname\u001b[0m\u001b[1;33m,\u001b[0m \u001b[1;34m'rb'\u001b[0m\u001b[1;33m)\u001b[0m \u001b[1;32mas\u001b[0m \u001b[0mf\u001b[0m\u001b[1;33m:\u001b[0m\u001b[1;33m\u001b[0m\u001b[0m\n\u001b[1;32m---> 36\u001b[1;33m             \u001b[0mim\u001b[0m \u001b[1;33m=\u001b[0m \u001b[0mImage\u001b[0m\u001b[1;33m.\u001b[0m\u001b[0mopen\u001b[0m\u001b[1;33m(\u001b[0m\u001b[0mf\u001b[0m\u001b[1;33m)\u001b[0m\u001b[1;33m\u001b[0m\u001b[0m\n\u001b[0m\u001b[0;32m     37\u001b[0m             \u001b[1;32mreturn\u001b[0m \u001b[0mpil_to_ndarray\u001b[0m\u001b[1;33m(\u001b[0m\u001b[0mim\u001b[0m\u001b[1;33m,\u001b[0m \u001b[0mdtype\u001b[0m\u001b[1;33m=\u001b[0m\u001b[0mdtype\u001b[0m\u001b[1;33m,\u001b[0m \u001b[0mimg_num\u001b[0m\u001b[1;33m=\u001b[0m\u001b[0mimg_num\u001b[0m\u001b[1;33m)\u001b[0m\u001b[1;33m\u001b[0m\u001b[0m\n\u001b[0;32m     38\u001b[0m     \u001b[1;32melse\u001b[0m\u001b[1;33m:\u001b[0m\u001b[1;33m\u001b[0m\u001b[0m\n",
      "\u001b[1;32m~\\Anaconda3\\lib\\site-packages\\PIL\\Image.py\u001b[0m in \u001b[0;36mopen\u001b[1;34m(fp, mode)\u001b[0m\n\u001b[0;32m   2620\u001b[0m         \u001b[0mfp\u001b[0m\u001b[1;33m.\u001b[0m\u001b[0mclose\u001b[0m\u001b[1;33m(\u001b[0m\u001b[1;33m)\u001b[0m\u001b[1;33m\u001b[0m\u001b[0m\n\u001b[0;32m   2621\u001b[0m     raise IOError(\"cannot identify image file %r\"\n\u001b[1;32m-> 2622\u001b[1;33m                   % (filename if filename else fp))\n\u001b[0m\u001b[0;32m   2623\u001b[0m \u001b[1;33m\u001b[0m\u001b[0m\n\u001b[0;32m   2624\u001b[0m \u001b[1;31m#\u001b[0m\u001b[1;33m\u001b[0m\u001b[1;33m\u001b[0m\u001b[0m\n",
      "\u001b[1;31mOSError\u001b[0m: cannot identify image file <_io.BufferedReader name='trainingdata/faces/.DS_Store'>"
     ]
    }
   ],
   "source": [
    "pos_training_path = 'trainingdata/faces'\n",
    "neg_training_path = 'trainingdata/nonfaces'\n",
    "\n",
    "positive_train = load_images(pos_training_path)\n",
    "negative_train = load_images(neg_training_path)"
   ]
  },
  {
   "cell_type": "code",
   "execution_count": 67,
   "metadata": {},
   "outputs": [
    {
     "ename": "TypeError",
     "evalue": "learn() missing 2 required positional arguments: 'positive_iis' and 'negative_iis'",
     "output_type": "error",
     "traceback": [
      "\u001b[1;31m---------------------------------------------------------------------------\u001b[0m",
      "\u001b[1;31mTypeError\u001b[0m                                 Traceback (most recent call last)",
      "\u001b[1;32m<timed exec>\u001b[0m in \u001b[0;36m<module>\u001b[1;34m()\u001b[0m\n",
      "\u001b[1;31mTypeError\u001b[0m: learn() missing 2 required positional arguments: 'positive_iis' and 'negative_iis'"
     ]
    }
   ],
   "source": [
    "%%time \n",
    "#classifiers = learn((positive_iis, negative_iis, num_classifiers=-1, min_feature_width=1, max_feature_width=-1, min_feature_height=1, max_feature_height=-1)\n",
    "classifiers = learn(positive_iis, negative_iis )"
   ]
  },
  {
   "cell_type": "markdown",
   "metadata": {},
   "source": [
    "** 6) Make a function for voting with different classifiers **\n",
    "\n",
    "Build two functions `ensemble_vote` and `ensemble_vote_all`.\n",
    "\n",
    "- `ensemble_vote(int_img, classifiers)` has to return a 1 if the majority of the votes of the classifiers is positive and a zero otherwise\n",
    "\n",
    "- `ensemble_vote_all(int_imgs, classifiers)` has to loop over the list `int_imgs` and compute the `ensemble_vote` for each image in the list. It has to return a list containing all the votes for all the images in  `int_imgs`.\n",
    "\n",
    "Use the functions to compute the train and test acurracies for faces and non faces.\n",
    "\n",
    "Print the results in the following format:\n",
    "```\n",
    "train results:\n",
    "Correctly identified Faces: 2129/2429  (87.64923836969946%)\n",
    "Correctly identified non-Faces: 4276/8548  (50.02339728591484%)\n",
    "\n",
    "test results:\n",
    "Correctly identified Faces: 300/472  (63.559322033898304%)\n",
    "Correctly identified non-Faces: 74/128  (57.8125%)\n",
    "```\n",
    "\n",
    "It is not required to get this exact results but print the information in this format. It facilitates understanding the results."
   ]
  },
  {
   "cell_type": "code",
   "execution_count": null,
   "metadata": {
    "collapsed": true
   },
   "outputs": [],
   "source": [
    "def ensemble_vote(int_img, classifiers):\n",
    "    return"
   ]
  },
  {
   "cell_type": "code",
   "execution_count": null,
   "metadata": {
    "collapsed": true
   },
   "outputs": [],
   "source": [
    "# Solution 1\n",
    "def ensemble_vote_all(int_imgs, classifiers):\n",
    "    return\n"
   ]
  },
  {
   "cell_type": "markdown",
   "metadata": {},
   "source": [
    "** 7) Make another test with 20 classifiers instead of 2**\n",
    "\n",
    "Inspect the classification results if you use adaboost with 20 classifiers. Use the same hyperameters for the features.\n",
    "Print the results as in the previous exercise:\n",
    "\n",
    "```\n",
    "train results:\n",
    "Correctly identified Faces: 2256/2429  (92.87772745986003%)\n",
    "Correctly identified non-Faces: 7046/8548  (82.42863827795975%)\n",
    "\n",
    "test results:\n",
    "Correctly identified Faces: 285/472  (60.381355932203384%)\n",
    "Correctly identified non-Faces: 104/128  (81.25%)\n",
    "```\n",
    "\n",
    "- Do the classification results improved in the train data?\n",
    "\n"
   ]
  },
  {
   "cell_type": "code",
   "execution_count": null,
   "metadata": {
    "collapsed": true
   },
   "outputs": [],
   "source": [
    "num_classifiers = 20\n",
    "min_feature_height = 8\n",
    "max_feature_height = 10\n",
    "min_feature_width = 8\n",
    "max_feature_width = 10"
   ]
  },
  {
   "cell_type": "markdown",
   "metadata": {},
   "source": [
    "** 8) Change the voting functions so that you can set a threshold for deciding a prediction**\n",
    "\n",
    "The threshold value indicates the minimum score for assigning a \"positive\" label (detect a face).\n",
    "\n",
    "Create the following functions\n",
    "\n",
    "- `ensemble_vote_t`: returns the final decision of a list of classifiers for a given threshold.\n",
    "- `ensemble_vote_all_t`: Iterates over a list of integral images and returns the  final decision of a list of classifiers for each of the images (for a given threshold).\n",
    "\n",
    "\n",
    "\n",
    "compute the following:\n",
    "\n",
    "- a) number of correct faces over all faces (in the train data)\n",
    "- b) number of correct non faces over all non faces (in the train data)\n",
    "- c) number of correct faces over all faces (in the test data)\n",
    "- d) number of correct non faces over all non faces (in the test data)\n",
    "\n",
    "Using the list of 20 classifiers.\n",
    "\n",
    "\n",
    "The quantities have to be computed for each of the following thresholds:\n",
    "\n",
    "```\n",
    "thresholds = np.array([x for x in range(-5,5,1)])/10.\n",
    "```\n",
    "\n",
    "- Make a bar bar plot for a) b) c) and d). In the x axis write the threshold value. \n",
    "\n",
    "- What happens when you increase the threshold value ?"
   ]
  },
  {
   "cell_type": "code",
   "execution_count": null,
   "metadata": {
    "collapsed": true
   },
   "outputs": [],
   "source": [
    "thresholds = np.array([x for x in range(-5,5,1)])/10."
   ]
  },
  {
   "cell_type": "code",
   "execution_count": null,
   "metadata": {
    "collapsed": true
   },
   "outputs": [],
   "source": [
    "correct_faces_train_t = []\n",
    "correct_non_faces_train_t = []\n",
    "correct_faces_test_t = []\n",
    "correct_non_faces_test_t = []"
   ]
  },
  {
   "cell_type": "code",
   "execution_count": null,
   "metadata": {
    "collapsed": true
   },
   "outputs": [],
   "source": [
    "def ensemble_score(int_img, classifiers):\n",
    "    return sum([c.get_vote(int_img) for c in classifiers])\n",
    "\n",
    "def ensemble_vote_t(int_img, classifiers,t):\n",
    "    return\n",
    "\n",
    "def ensemble_vote_all_t(int_imgs, classifiers,t=-0.1):\n",
    "    votes = []\n",
    "\n",
    "    \n",
    "    return votes\n"
   ]
  },
  {
   "cell_type": "code",
   "execution_count": null,
   "metadata": {
    "collapsed": true
   },
   "outputs": [],
   "source": []
  },
  {
   "cell_type": "code",
   "execution_count": null,
   "metadata": {
    "collapsed": true
   },
   "outputs": [],
   "source": []
  },
  {
   "cell_type": "code",
   "execution_count": null,
   "metadata": {
    "collapsed": true
   },
   "outputs": [],
   "source": []
  }
 ],
 "metadata": {
  "kernelspec": {
   "display_name": "Python 3",
   "language": "python",
   "name": "python3"
  },
  "language_info": {
   "codemirror_mode": {
    "name": "ipython",
    "version": 3
   },
   "file_extension": ".py",
   "mimetype": "text/x-python",
   "name": "python",
   "nbconvert_exporter": "python",
   "pygments_lexer": "ipython3",
   "version": "3.7.0"
  }
 },
 "nbformat": 4,
 "nbformat_minor": 1
}
